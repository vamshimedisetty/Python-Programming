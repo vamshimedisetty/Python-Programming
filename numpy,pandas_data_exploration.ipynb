{
 "cells": [
  {
   "cell_type": "code",
   "execution_count": 66,
   "metadata": {
    "collapsed": false
   },
   "outputs": [
    {
     "name": "stderr",
     "output_type": "stream",
     "text": [
      "WARNING: Couldn't start log: Log file is already active: ipython_log.py\n"
     ]
    }
   ],
   "source": [
    "## Vamshi Medisetty\n",
    "## Assignment - 4\n",
    "\n",
    "\n",
    "%logstart      ## To take output log into another file"
   ]
  },
  {
   "cell_type": "code",
   "execution_count": 4,
   "metadata": {
    "collapsed": true
   },
   "outputs": [],
   "source": [
    "import numpy as np  # To import numpy\n"
   ]
  },
  {
   "cell_type": "code",
   "execution_count": 68,
   "metadata": {
    "collapsed": false
   },
   "outputs": [
    {
     "data": {
      "text/plain": [
       "array([0, 0, 1, 0, 0, 1, 1, 0])"
      ]
     },
     "execution_count": 68,
     "metadata": {},
     "output_type": "execute_result"
    }
   ],
   "source": [
    "## Question 1\n",
    "# Part - A\n",
    "n,p=1,0.5\n",
    "a = np.random.binomial(n,p,8)\n",
    "a\n",
    "\n"
   ]
  },
  {
   "cell_type": "code",
   "execution_count": 72,
   "metadata": {
    "collapsed": false
   },
   "outputs": [
    {
     "data": {
      "text/plain": [
       "array([0, 0, 0, 0, 0, 0, 1, 0])"
      ]
     },
     "execution_count": 72,
     "metadata": {},
     "output_type": "execute_result"
    }
   ],
   "source": [
    "# Part - B\n",
    "\n",
    "n,p=1,0.3\n",
    "b = np.random.binomial(n,p,8)\n",
    "b\n"
   ]
  },
  {
   "cell_type": "code",
   "execution_count": 70,
   "metadata": {
    "collapsed": false
   },
   "outputs": [
    {
     "data": {
      "text/plain": [
       "array([1, 1, 1, 1, 1, 1, 1, 1])"
      ]
     },
     "execution_count": 70,
     "metadata": {},
     "output_type": "execute_result"
    }
   ],
   "source": [
    "# Part - C\n",
    "\n",
    "n,p=1,0.7\n",
    "c = np.random.binomial(n,p,8)\n",
    "c\n"
   ]
  },
  {
   "cell_type": "code",
   "execution_count": 7,
   "metadata": {
    "collapsed": true
   },
   "outputs": [],
   "source": [
    "## We observe that the number of times a head is apperaing (Success)\n",
    "## is increasing as we increase the probability of occurence (biased coin)"
   ]
  },
  {
   "cell_type": "code",
   "execution_count": 20,
   "metadata": {
    "collapsed": false
   },
   "outputs": [
    {
     "data": {
      "text/plain": [
       "1.4624999999999999"
      ]
     },
     "execution_count": 20,
     "metadata": {},
     "output_type": "execute_result"
    }
   ],
   "source": [
    "## Question 2\n",
    "## Part - A\n",
    "\n",
    "n,p=5,0.3\n",
    "a = np.random.binomial(n,p,80)\n",
    "a\n",
    "avg1 = np.average(a)\n",
    "avg1\n",
    "\n"
   ]
  },
  {
   "cell_type": "code",
   "execution_count": 74,
   "metadata": {
    "collapsed": false
   },
   "outputs": [
    {
     "data": {
      "text/plain": [
       "1.4412499999999999"
      ]
     },
     "execution_count": 74,
     "metadata": {},
     "output_type": "execute_result"
    }
   ],
   "source": [
    "## Part - B\n",
    "\n",
    "n,p=5,0.3\n",
    "b = np.random.binomial(n,p,800)\n",
    "b\n",
    "avg2 = np.average(b)\n",
    "avg2\n"
   ]
  },
  {
   "cell_type": "code",
   "execution_count": 75,
   "metadata": {
    "collapsed": false
   },
   "outputs": [
    {
     "data": {
      "text/plain": [
       "1.4995000000000001"
      ]
     },
     "execution_count": 75,
     "metadata": {},
     "output_type": "execute_result"
    }
   ],
   "source": [
    "## Part - C\n",
    "\n",
    "n,p=5,0.3\n",
    "c = np.random.binomial(n,p,8000)\n",
    "c\n",
    "avg3 = np.average(c)\n",
    "avg3\n"
   ]
  },
  {
   "cell_type": "code",
   "execution_count": 20,
   "metadata": {
    "collapsed": true
   },
   "outputs": [],
   "source": [
    "## We observe that three averages are almost same\n",
    "## We observe that if the probability of success is not changing,\n",
    "## increasing number of trials, is not having any effect on average\n",
    "## i.e., average increases, only if probaility of heads (success) is increased"
   ]
  },
  {
   "cell_type": "code",
   "execution_count": 3,
   "metadata": {
    "collapsed": false
   },
   "outputs": [
    {
     "data": {
      "text/plain": [
       "0.74750746245307709"
      ]
     },
     "execution_count": 3,
     "metadata": {},
     "output_type": "execute_result"
    }
   ],
   "source": [
    "## Question 3\n",
    "## Section - A\n",
    "# Prob (X<= 12)\n",
    "\n",
    "import numpy as np\n",
    "from scipy.stats import norm\n",
    "p1 = norm.cdf(12,loc=10,scale=3)\n",
    "p1\n",
    "\n",
    "n = norm(10,3)\n",
    "n.cdf(12)\n"
   ]
  },
  {
   "cell_type": "code",
   "execution_count": 26,
   "metadata": {
    "collapsed": false
   },
   "outputs": [
    {
     "data": {
      "text/plain": [
       "0.74750746245307709"
      ]
     },
     "execution_count": 26,
     "metadata": {},
     "output_type": "execute_result"
    }
   ],
   "source": [
    "## Section - B\n",
    "# Prob (X > 8)\n",
    "\n",
    "p2 = 1 - norm.cdf(8,loc=10,scale=3)\n",
    "p2\n",
    "\n",
    "## We notice that both probabilities p1 and p2 are almost same.\n",
    "## This is the property of normal distribution, that it is symmetrical over the mean\n",
    "## Hence we see that both the probabilities almost same"
   ]
  },
  {
   "cell_type": "code",
   "execution_count": 28,
   "metadata": {
    "collapsed": false
   },
   "outputs": [
    {
     "data": {
      "text/plain": [
       "0.50498507509384583"
      ]
     },
     "execution_count": 28,
     "metadata": {},
     "output_type": "execute_result"
    }
   ],
   "source": [
    "## Section - C\n",
    "# Prob(|X-10|>2)\n",
    "\n",
    "p3 = norm.cdf(8,loc=10,scale=3) + (1 - norm.cdf(12,loc=10,scale=3))\n",
    "p3"
   ]
  },
  {
   "cell_type": "code",
   "execution_count": 5,
   "metadata": {
    "collapsed": false
   },
   "outputs": [
    {
     "data": {
      "text/plain": [
       "5.068593114439275"
      ]
     },
     "execution_count": 5,
     "metadata": {},
     "output_type": "execute_result"
    }
   ],
   "source": [
    "## Question  4\n",
    "## Section - A\n",
    "\n",
    "import pandas as pd\n",
    "m =5                   ## Mean\n",
    "s = 2                  ## Std Deviation\n",
    "n = 1000               ## Sample Size\n",
    "a = pd.Series(np.random.normal(m,s,n))\n",
    "a.mean()"
   ]
  },
  {
   "cell_type": "code",
   "execution_count": 53,
   "metadata": {
    "collapsed": false
   },
   "outputs": [
    {
     "data": {
      "text/plain": [
       "2.0431546777204077"
      ]
     },
     "execution_count": 53,
     "metadata": {},
     "output_type": "execute_result"
    }
   ],
   "source": [
    "## Section - B\n",
    "\n",
    "m =5                   ## Mean\n",
    "s = 2                  ## Std Deviation\n",
    "n = 1000               ## Sample Size\n",
    "a = pd.Series(np.random.normal(m,s,n))\n",
    "a.std()"
   ]
  },
  {
   "cell_type": "code",
   "execution_count": 52,
   "metadata": {
    "collapsed": false
   },
   "outputs": [
    {
     "data": {
      "text/plain": [
       "-0.049832625856911464"
      ]
     },
     "execution_count": 52,
     "metadata": {},
     "output_type": "execute_result"
    }
   ],
   "source": [
    "## Section - C\n",
    "\n",
    "m =5                   ## Mean\n",
    "s = 2                  ## Std Deviation\n",
    "n = 1000               ## Sample Size\n",
    "a = pd.Series(np.random.normal(m,s,n))\n",
    "a.skew()\n",
    "\n",
    "## We observe that the skew is negative\n",
    "## That means, it is left skewed"
   ]
  },
  {
   "cell_type": "code",
   "execution_count": 7,
   "metadata": {
    "collapsed": false
   },
   "outputs": [
    {
     "data": {
      "text/plain": [
       "-0.061413054456961325"
      ]
     },
     "execution_count": 7,
     "metadata": {},
     "output_type": "execute_result"
    }
   ],
   "source": [
    "## Section - D\n",
    "\n",
    "m =5                   ## Mean\n",
    "s = 2                  ## Std Deviation\n",
    "n = 1000               ## Sample Size\n",
    "a = pd.Series(np.random.normal(m,s,n))\n",
    "a.kurt()\n",
    "\n",
    "## We obseve that the kurtosis is lesser than 3.\n",
    "## This indicates that distribution is platykurtic"
   ]
  },
  {
   "cell_type": "code",
   "execution_count": 17,
   "metadata": {
    "collapsed": false
   },
   "outputs": [
    {
     "data": {
      "text/html": [
       "<table class=\"simpletable\">\n",
       "<caption>OLS Regression Results</caption>\n",
       "<tr>\n",
       "  <th>Dep. Variable:</th>          <td>wage</td>       <th>  R-squared:         </th> <td>   0.764</td> \n",
       "</tr>\n",
       "<tr>\n",
       "  <th>Model:</th>                   <td>OLS</td>       <th>  Adj. R-squared:    </th> <td>   0.764</td> \n",
       "</tr>\n",
       "<tr>\n",
       "  <th>Method:</th>             <td>Least Squares</td>  <th>  F-statistic:       </th> <td>   1701.</td> \n",
       "</tr>\n",
       "<tr>\n",
       "  <th>Date:</th>             <td>Sun, 24 Apr 2016</td> <th>  Prob (F-statistic):</th> <td>7.93e-167</td>\n",
       "</tr>\n",
       "<tr>\n",
       "  <th>Time:</th>                 <td>22:15:01</td>     <th>  Log-Likelihood:    </th> <td> -1386.6</td> \n",
       "</tr>\n",
       "<tr>\n",
       "  <th>No. Observations:</th>      <td>   526</td>      <th>  AIC:               </th> <td>   2775.</td> \n",
       "</tr>\n",
       "<tr>\n",
       "  <th>Df Residuals:</th>          <td>   525</td>      <th>  BIC:               </th> <td>   2779.</td> \n",
       "</tr>\n",
       "<tr>\n",
       "  <th>Df Model:</th>              <td>     1</td>      <th>                     </th>     <td> </td>    \n",
       "</tr>\n",
       "<tr>\n",
       "  <th>Covariance Type:</th>      <td>nonrobust</td>    <th>                     </th>     <td> </td>    \n",
       "</tr>\n",
       "</table>\n",
       "<table class=\"simpletable\">\n",
       "<tr>\n",
       "    <td></td>      <th>coef</th>     <th>std err</th>      <th>t</th>      <th>P>|t|</th> <th>[95.0% Conf. Int.]</th> \n",
       "</tr>\n",
       "<tr>\n",
       "  <th>educ</th> <td>    0.4727</td> <td>    0.011</td> <td>   41.247</td> <td> 0.000</td> <td>    0.450     0.495</td>\n",
       "</tr>\n",
       "</table>\n",
       "<table class=\"simpletable\">\n",
       "<tr>\n",
       "  <th>Omnibus:</th>       <td>221.585</td> <th>  Durbin-Watson:     </th> <td>   1.822</td> \n",
       "</tr>\n",
       "<tr>\n",
       "  <th>Prob(Omnibus):</th> <td> 0.000</td>  <th>  Jarque-Bera (JB):  </th> <td> 882.785</td> \n",
       "</tr>\n",
       "<tr>\n",
       "  <th>Skew:</th>          <td> 1.930</td>  <th>  Prob(JB):          </th> <td>2.02e-192</td>\n",
       "</tr>\n",
       "<tr>\n",
       "  <th>Kurtosis:</th>      <td> 8.037</td>  <th>  Cond. No.          </th> <td>    1.00</td> \n",
       "</tr>\n",
       "</table>"
      ],
      "text/plain": [
       "<class 'statsmodels.iolib.summary.Summary'>\n",
       "\"\"\"\n",
       "                            OLS Regression Results                            \n",
       "==============================================================================\n",
       "Dep. Variable:                   wage   R-squared:                       0.764\n",
       "Model:                            OLS   Adj. R-squared:                  0.764\n",
       "Method:                 Least Squares   F-statistic:                     1701.\n",
       "Date:                Sun, 24 Apr 2016   Prob (F-statistic):          7.93e-167\n",
       "Time:                        22:15:01   Log-Likelihood:                -1386.6\n",
       "No. Observations:                 526   AIC:                             2775.\n",
       "Df Residuals:                     525   BIC:                             2779.\n",
       "Df Model:                           1                                         \n",
       "Covariance Type:            nonrobust                                         \n",
       "==============================================================================\n",
       "                 coef    std err          t      P>|t|      [95.0% Conf. Int.]\n",
       "------------------------------------------------------------------------------\n",
       "educ           0.4727      0.011     41.247      0.000         0.450     0.495\n",
       "==============================================================================\n",
       "Omnibus:                      221.585   Durbin-Watson:                   1.822\n",
       "Prob(Omnibus):                  0.000   Jarque-Bera (JB):              882.785\n",
       "Skew:                           1.930   Prob(JB):                    2.02e-192\n",
       "Kurtosis:                       8.037   Cond. No.                         1.00\n",
       "==============================================================================\n",
       "\n",
       "Warnings:\n",
       "[1] Standard Errors assume that the covariance matrix of the errors is correctly specified.\n",
       "\"\"\""
      ]
     },
     "execution_count": 17,
     "metadata": {},
     "output_type": "execute_result"
    }
   ],
   "source": [
    "## Question - 5\n",
    "## Section - A\n",
    "\n",
    "import pandas as pd\n",
    "import numpy as np\n",
    "import statsmodels.api as sm\n",
    "\n",
    "wage1 = pd.read_csv(\"C:/Users/vamsh/Desktop/Python_Stats_Assignment/wage1.csv\")\n",
    "wage = wage1.wage\n",
    "educ = wage1.educ\n",
    "r = sm.OLS(wage,educ)\n",
    "reg1 = r.fit()\n",
    "reg1.summary()\n"
   ]
  },
  {
   "cell_type": "code",
   "execution_count": 39,
   "metadata": {
    "collapsed": false
   },
   "outputs": [
    {
     "data": {
      "text/plain": [
       "0.47266371884007347"
      ]
     },
     "execution_count": 39,
     "metadata": {},
     "output_type": "execute_result"
    }
   ],
   "source": [
    "## Section - B\n",
    "\n",
    "wage1 = pd.read_csv(\"C:/Users/vamsh/Desktop/Python_Stats_Assignment/wage1.csv\")\n",
    "wage = wage1.wage\n",
    "educ = wage1.educ\n",
    "coeff = (np.dot(educ.T,wage))/ (np.sum(np.square(educ)))\n",
    "coeff\n"
   ]
  },
  {
   "cell_type": "code",
   "execution_count": 8,
   "metadata": {
    "collapsed": false
   },
   "outputs": [
    {
     "data": {
      "text/plain": [
       "7.4444704779756323"
      ]
     },
     "execution_count": 8,
     "metadata": {},
     "output_type": "execute_result"
    }
   ],
   "source": [
    "## Question - 6\n",
    "## Section - A\n",
    "\n",
    "import pandas as pd\n",
    "char = pd.read_csv(\"C:/Users/vamsh/Desktop/Python_Stats_Assignment/charity.csv\")\n",
    "a = np.average(char.gift)\n",
    "a\n"
   ]
  },
  {
   "cell_type": "code",
   "execution_count": 10,
   "metadata": {
    "collapsed": false
   },
   "outputs": [
    {
     "data": {
      "text/plain": [
       "2.0495548266166823"
      ]
     },
     "execution_count": 10,
     "metadata": {},
     "output_type": "execute_result"
    }
   ],
   "source": [
    "## Section - B\n",
    "\n",
    "b = np.average(char.mailsyear)\n",
    "b\n"
   ]
  },
  {
   "cell_type": "code",
   "execution_count": 12,
   "metadata": {
    "collapsed": false
   },
   "outputs": [
    {
     "data": {
      "text/plain": [
       "0.25"
      ]
     },
     "execution_count": 12,
     "metadata": {},
     "output_type": "execute_result"
    }
   ],
   "source": [
    "## Section - C\n",
    "\n",
    "c = np.min(char.mailsyear)\n",
    "c\n"
   ]
  },
  {
   "cell_type": "code",
   "execution_count": 18,
   "metadata": {
    "collapsed": false
   },
   "outputs": [
    {
     "data": {
      "text/html": [
       "<table class=\"simpletable\">\n",
       "<caption>OLS Regression Results</caption>\n",
       "<tr>\n",
       "  <th>Dep. Variable:</th>          <td>gift</td>       <th>  R-squared:         </th> <td>   0.014</td> \n",
       "</tr>\n",
       "<tr>\n",
       "  <th>Model:</th>                   <td>OLS</td>       <th>  Adj. R-squared:    </th> <td>   0.014</td> \n",
       "</tr>\n",
       "<tr>\n",
       "  <th>Method:</th>             <td>Least Squares</td>  <th>  F-statistic:       </th> <td>   59.65</td> \n",
       "</tr>\n",
       "<tr>\n",
       "  <th>Date:</th>             <td>Sun, 24 Apr 2016</td> <th>  Prob (F-statistic):</th> <td>1.40e-14</td> \n",
       "</tr>\n",
       "<tr>\n",
       "  <th>Time:</th>                 <td>22:15:07</td>     <th>  Log-Likelihood:    </th> <td> -17602.</td> \n",
       "</tr>\n",
       "<tr>\n",
       "  <th>No. Observations:</th>      <td>  4268</td>      <th>  AIC:               </th> <td>3.521e+04</td>\n",
       "</tr>\n",
       "<tr>\n",
       "  <th>Df Residuals:</th>          <td>  4266</td>      <th>  BIC:               </th> <td>3.522e+04</td>\n",
       "</tr>\n",
       "<tr>\n",
       "  <th>Df Model:</th>              <td>     1</td>      <th>                     </th>     <td> </td>    \n",
       "</tr>\n",
       "<tr>\n",
       "  <th>Covariance Type:</th>      <td>nonrobust</td>    <th>                     </th>     <td> </td>    \n",
       "</tr>\n",
       "</table>\n",
       "<table class=\"simpletable\">\n",
       "<tr>\n",
       "      <td></td>         <th>coef</th>     <th>std err</th>      <th>t</th>      <th>P>|t|</th> <th>[95.0% Conf. Int.]</th> \n",
       "</tr>\n",
       "<tr>\n",
       "  <th>const</th>     <td>    2.0141</td> <td>    0.739</td> <td>    2.724</td> <td> 0.006</td> <td>    0.564     3.464</td>\n",
       "</tr>\n",
       "<tr>\n",
       "  <th>mailsyear</th> <td>    2.6495</td> <td>    0.343</td> <td>    7.723</td> <td> 0.000</td> <td>    1.977     3.322</td>\n",
       "</tr>\n",
       "</table>\n",
       "<table class=\"simpletable\">\n",
       "<tr>\n",
       "  <th>Omnibus:</th>       <td>4951.411</td> <th>  Durbin-Watson:     </th>  <td>   1.529</td> \n",
       "</tr>\n",
       "<tr>\n",
       "  <th>Prob(Omnibus):</th>  <td> 0.000</td>  <th>  Jarque-Bera (JB):  </th> <td>784986.187</td>\n",
       "</tr>\n",
       "<tr>\n",
       "  <th>Skew:</th>           <td> 5.889</td>  <th>  Prob(JB):          </th>  <td>    0.00</td> \n",
       "</tr>\n",
       "<tr>\n",
       "  <th>Kurtosis:</th>       <td>68.387</td>  <th>  Cond. No.          </th>  <td>    8.34</td> \n",
       "</tr>\n",
       "</table>"
      ],
      "text/plain": [
       "<class 'statsmodels.iolib.summary.Summary'>\n",
       "\"\"\"\n",
       "                            OLS Regression Results                            \n",
       "==============================================================================\n",
       "Dep. Variable:                   gift   R-squared:                       0.014\n",
       "Model:                            OLS   Adj. R-squared:                  0.014\n",
       "Method:                 Least Squares   F-statistic:                     59.65\n",
       "Date:                Sun, 24 Apr 2016   Prob (F-statistic):           1.40e-14\n",
       "Time:                        22:15:07   Log-Likelihood:                -17602.\n",
       "No. Observations:                4268   AIC:                         3.521e+04\n",
       "Df Residuals:                    4266   BIC:                         3.522e+04\n",
       "Df Model:                           1                                         \n",
       "Covariance Type:            nonrobust                                         \n",
       "==============================================================================\n",
       "                 coef    std err          t      P>|t|      [95.0% Conf. Int.]\n",
       "------------------------------------------------------------------------------\n",
       "const          2.0141      0.739      2.724      0.006         0.564     3.464\n",
       "mailsyear      2.6495      0.343      7.723      0.000         1.977     3.322\n",
       "==============================================================================\n",
       "Omnibus:                     4951.411   Durbin-Watson:                   1.529\n",
       "Prob(Omnibus):                  0.000   Jarque-Bera (JB):           784986.187\n",
       "Skew:                           5.889   Prob(JB):                         0.00\n",
       "Kurtosis:                      68.387   Cond. No.                         8.34\n",
       "==============================================================================\n",
       "\n",
       "Warnings:\n",
       "[1] Standard Errors assume that the covariance matrix of the errors is correctly specified.\n",
       "\"\"\""
      ]
     },
     "execution_count": 18,
     "metadata": {},
     "output_type": "execute_result"
    }
   ],
   "source": [
    "## Section - D\n",
    "\n",
    "char = pd.read_csv(\"C:/Users/vamsh/Desktop/Python_Stats_Assignment/charity.csv\")\n",
    "gift = char.gift\n",
    "mailsyear = sm.add_constant(char.mailsyear)\n",
    "r = sm.OLS(gift,mailsyear)\n",
    "reg = r.fit()\n",
    "reg.summary()\n"
   ]
  },
  {
   "cell_type": "code",
   "execution_count": 48,
   "metadata": {
    "collapsed": true
   },
   "outputs": [],
   "source": [
    "## Section E\n",
    "\n",
    "## We observe that the co-efficient of mailsyear is 2.6495\n",
    "## We observe that this coefficient is positive\n",
    "## Meaning : If this is increased, the gift value is also increases\n",
    "## Per one unit increase, the gift will be increased by 2.6495\n",
    "## If each mailing costs one guilder, the charity is expected to gain by a factor of 2.65 guilders\n",
    "## Yes, the charity makes a net gain on every mailing (Since co-efficient is a positive value)"
   ]
  },
  {
   "cell_type": "code",
   "execution_count": null,
   "metadata": {
    "collapsed": true
   },
   "outputs": [],
   "source": [
    "## Section - F\n",
    "\n",
    "## Even if there's no mailing, the value of gift is 2.01\n",
    "## This means, the minimum amount of charity is always 2.01 \n",
    "## This is the smallest predicted charitable contribution\n",
    "## So, we can't predict zero for gift"
   ]
  }
 ],
 "metadata": {
  "kernelspec": {
   "display_name": "Python 2",
   "language": "python",
   "name": "python2"
  },
  "language_info": {
   "codemirror_mode": {
    "name": "ipython",
    "version": 2
   },
   "file_extension": ".py",
   "mimetype": "text/x-python",
   "name": "python",
   "nbconvert_exporter": "python",
   "pygments_lexer": "ipython2",
   "version": "2.7.10"
  }
 },
 "nbformat": 4,
 "nbformat_minor": 0
}
