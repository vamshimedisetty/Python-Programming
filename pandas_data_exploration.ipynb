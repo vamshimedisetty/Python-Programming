{
 "cells": [
  {
   "cell_type": "code",
   "execution_count": 2,
   "metadata": {
    "collapsed": false
   },
   "outputs": [],
   "source": [
    "import pandas as pd\n",
    "import numpy as np\n",
    "from __future__ import division"
   ]
  },
  {
   "cell_type": "code",
   "execution_count": 3,
   "metadata": {
    "collapsed": false
   },
   "outputs": [
    {
     "data": {
      "text/html": [
       "<div>\n",
       "<table border=\"1\" class=\"dataframe\">\n",
       "  <thead>\n",
       "    <tr style=\"text-align: right;\">\n",
       "      <th></th>\n",
       "      <th>Strike</th>\n",
       "      <th>Expiry</th>\n",
       "      <th>Type</th>\n",
       "      <th>Vol</th>\n",
       "      <th>Open_Int</th>\n",
       "      <th>Underlying_Price</th>\n",
       "    </tr>\n",
       "  </thead>\n",
       "  <tbody>\n",
       "    <tr>\n",
       "      <th>0</th>\n",
       "      <td>47.5</td>\n",
       "      <td>1/20/2017</td>\n",
       "      <td>put</td>\n",
       "      <td>277</td>\n",
       "      <td>739</td>\n",
       "      <td>96.69</td>\n",
       "    </tr>\n",
       "    <tr>\n",
       "      <th>1</th>\n",
       "      <td>47.5</td>\n",
       "      <td>1/19/2018</td>\n",
       "      <td>call</td>\n",
       "      <td>2</td>\n",
       "      <td>1</td>\n",
       "      <td>96.69</td>\n",
       "    </tr>\n",
       "    <tr>\n",
       "      <th>2</th>\n",
       "      <td>47.5</td>\n",
       "      <td>1/19/2018</td>\n",
       "      <td>put</td>\n",
       "      <td>2</td>\n",
       "      <td>375</td>\n",
       "      <td>96.69</td>\n",
       "    </tr>\n",
       "    <tr>\n",
       "      <th>3</th>\n",
       "      <td>50.0</td>\n",
       "      <td>2/5/2016</td>\n",
       "      <td>call</td>\n",
       "      <td>1</td>\n",
       "      <td>0</td>\n",
       "      <td>96.69</td>\n",
       "    </tr>\n",
       "    <tr>\n",
       "      <th>4</th>\n",
       "      <td>50.0</td>\n",
       "      <td>3/18/2016</td>\n",
       "      <td>call</td>\n",
       "      <td>4</td>\n",
       "      <td>0</td>\n",
       "      <td>96.69</td>\n",
       "    </tr>\n",
       "  </tbody>\n",
       "</table>\n",
       "</div>"
      ],
      "text/plain": [
       "   Strike     Expiry  Type  Vol  Open_Int  Underlying_Price\n",
       "0    47.5  1/20/2017   put  277       739             96.69\n",
       "1    47.5  1/19/2018  call    2         1             96.69\n",
       "2    47.5  1/19/2018   put    2       375             96.69\n",
       "3    50.0   2/5/2016  call    1         0             96.69\n",
       "4    50.0  3/18/2016  call    4         0             96.69"
      ]
     },
     "execution_count": 3,
     "metadata": {},
     "output_type": "execute_result"
    }
   ],
   "source": [
    "#1\n",
    "df=pd.read_csv('C:/Users/vamsh/Desktop/Python/aapl.csv')\n",
    "df.head() # Let us check the contents of the data frame 'df'"
   ]
  },
  {
   "cell_type": "code",
   "execution_count": 4,
   "metadata": {
    "collapsed": false
   },
   "outputs": [
    {
     "data": {
      "text/html": [
       "<div>\n",
       "<table border=\"1\" class=\"dataframe\">\n",
       "  <thead>\n",
       "    <tr style=\"text-align: right;\">\n",
       "      <th></th>\n",
       "      <th>Strike</th>\n",
       "      <th>Expiry</th>\n",
       "      <th>Type</th>\n",
       "      <th>Vol</th>\n",
       "      <th>Open_Int</th>\n",
       "      <th>Underlying_Price</th>\n",
       "      <th>Size</th>\n",
       "    </tr>\n",
       "  </thead>\n",
       "  <tbody>\n",
       "    <tr>\n",
       "      <th>0</th>\n",
       "      <td>47.5</td>\n",
       "      <td>1/20/2017</td>\n",
       "      <td>put</td>\n",
       "      <td>277</td>\n",
       "      <td>739</td>\n",
       "      <td>96.69</td>\n",
       "      <td>13157.5</td>\n",
       "    </tr>\n",
       "    <tr>\n",
       "      <th>1</th>\n",
       "      <td>47.5</td>\n",
       "      <td>1/19/2018</td>\n",
       "      <td>call</td>\n",
       "      <td>2</td>\n",
       "      <td>1</td>\n",
       "      <td>96.69</td>\n",
       "      <td>95.0</td>\n",
       "    </tr>\n",
       "    <tr>\n",
       "      <th>2</th>\n",
       "      <td>47.5</td>\n",
       "      <td>1/19/2018</td>\n",
       "      <td>put</td>\n",
       "      <td>2</td>\n",
       "      <td>375</td>\n",
       "      <td>96.69</td>\n",
       "      <td>95.0</td>\n",
       "    </tr>\n",
       "    <tr>\n",
       "      <th>3</th>\n",
       "      <td>50.0</td>\n",
       "      <td>2/5/2016</td>\n",
       "      <td>call</td>\n",
       "      <td>1</td>\n",
       "      <td>0</td>\n",
       "      <td>96.69</td>\n",
       "      <td>50.0</td>\n",
       "    </tr>\n",
       "    <tr>\n",
       "      <th>4</th>\n",
       "      <td>50.0</td>\n",
       "      <td>3/18/2016</td>\n",
       "      <td>call</td>\n",
       "      <td>4</td>\n",
       "      <td>0</td>\n",
       "      <td>96.69</td>\n",
       "      <td>200.0</td>\n",
       "    </tr>\n",
       "  </tbody>\n",
       "</table>\n",
       "</div>"
      ],
      "text/plain": [
       "   Strike     Expiry  Type  Vol  Open_Int  Underlying_Price     Size\n",
       "0    47.5  1/20/2017   put  277       739             96.69  13157.5\n",
       "1    47.5  1/19/2018  call    2         1             96.69     95.0\n",
       "2    47.5  1/19/2018   put    2       375             96.69     95.0\n",
       "3    50.0   2/5/2016  call    1         0             96.69     50.0\n",
       "4    50.0  3/18/2016  call    4         0             96.69    200.0"
      ]
     },
     "execution_count": 4,
     "metadata": {},
     "output_type": "execute_result"
    }
   ],
   "source": [
    "#2\n",
    "df['Size'] = (df['Strike']*df['Vol'])\n",
    "df.head()"
   ]
  },
  {
   "cell_type": "code",
   "execution_count": 15,
   "metadata": {
    "collapsed": false
   },
   "outputs": [
    {
     "data": {
      "text/plain": [
       "17437372.5"
      ]
     },
     "execution_count": 15,
     "metadata": {},
     "output_type": "execute_result"
    }
   ],
   "source": [
    "#2\n",
    "sum(df['Size'])"
   ]
  },
  {
   "cell_type": "code",
   "execution_count": 16,
   "metadata": {
    "collapsed": false
   },
   "outputs": [
    {
     "data": {
      "text/plain": [
       "98.410590326767874"
      ]
     },
     "execution_count": 16,
     "metadata": {},
     "output_type": "execute_result"
    }
   ],
   "source": [
    "#3\n",
    "sum(df['Size'])/sum(df['Vol'])"
   ]
  },
  {
   "cell_type": "code",
   "execution_count": 17,
   "metadata": {
    "collapsed": false
   },
   "outputs": [
    {
     "data": {
      "text/plain": [
       "111.18293340590854"
      ]
     },
     "execution_count": 17,
     "metadata": {},
     "output_type": "execute_result"
    }
   ],
   "source": [
    "#4\n",
    "sum((df['Strike']*df['Open_Int']))/sum(df['Open_Int'])"
   ]
  },
  {
   "cell_type": "code",
   "execution_count": 19,
   "metadata": {
    "collapsed": false
   },
   "outputs": [
    {
     "data": {
      "text/plain": [
       "98.69192063124521"
      ]
     },
     "execution_count": 19,
     "metadata": {},
     "output_type": "execute_result"
    }
   ],
   "source": [
    "# 5 a\n",
    "sum(df[df.Type=='call']['Size'])/sum(df[df.Type=='call']['Vol'])"
   ]
  },
  {
   "cell_type": "code",
   "execution_count": 20,
   "metadata": {
    "collapsed": false
   },
   "outputs": [
    {
     "data": {
      "text/plain": [
       "97.923879884136568"
      ]
     },
     "execution_count": 20,
     "metadata": {},
     "output_type": "execute_result"
    }
   ],
   "source": [
    "# 5 b\n",
    "sum(df[df.Type=='put']['Size'])/sum(df[df.Type=='put']['Vol'])"
   ]
  },
  {
   "cell_type": "code",
   "execution_count": 21,
   "metadata": {
    "collapsed": false
   },
   "outputs": [
    {
     "data": {
      "text/plain": [
       "117.44697408841323"
      ]
     },
     "execution_count": 21,
     "metadata": {},
     "output_type": "execute_result"
    }
   ],
   "source": [
    "#6 a\n",
    "sum(df[df.Type=='call']['Strike'] * df[df.Type=='call']['Open_Int'] )/sum(df[df.Type=='call']['Open_Int'])"
   ]
  },
  {
   "cell_type": "code",
   "execution_count": 23,
   "metadata": {
    "collapsed": false
   },
   "outputs": [
    {
     "data": {
      "text/plain": [
       "101.99886068994412"
      ]
     },
     "execution_count": 23,
     "metadata": {},
     "output_type": "execute_result"
    }
   ],
   "source": [
    "#6 b\n",
    "sum(df[df.Type=='put']['Strike'] * df[df.Type=='put']['Open_Int'] )/sum(df[df.Type=='put']['Open_Int'])"
   ]
  },
  {
   "cell_type": "code",
   "execution_count": 29,
   "metadata": {
    "collapsed": false
   },
   "outputs": [
    {
     "data": {
      "text/plain": [
       "93.340828924162253"
      ]
     },
     "execution_count": 29,
     "metadata": {},
     "output_type": "execute_result"
    }
   ],
   "source": [
    "# 7 a\n",
    "sum(df[(df.Type=='call') & (df.Expiry=='3/4/2016')]['Size'])/sum(df[(df.Type=='call') & (df.Expiry=='3/4/2016')]['Vol'])"
   ]
  },
  {
   "cell_type": "code",
   "execution_count": 30,
   "metadata": {
    "collapsed": false
   },
   "outputs": [
    {
     "data": {
      "text/plain": [
       "91.111111111111114"
      ]
     },
     "execution_count": 30,
     "metadata": {},
     "output_type": "execute_result"
    }
   ],
   "source": [
    "# 7 b\n",
    "sum(df[(df.Type=='put') & (df.Expiry=='3/4/2016')]['Size'])/sum(df[(df.Type=='put') & (df.Expiry=='3/4/2016')]['Vol'])"
   ]
  },
  {
   "cell_type": "code",
   "execution_count": 35,
   "metadata": {
    "collapsed": false
   },
   "outputs": [
    {
     "data": {
      "text/plain": [
       "101.6300162469537"
      ]
     },
     "execution_count": 35,
     "metadata": {},
     "output_type": "execute_result"
    }
   ],
   "source": [
    "# 8 a\n",
    "sum(((df[(df.Type=='call') & (df.Expiry=='3/4/2016')]['Strike'])*(df[(aapl.Type=='call') & (df.Expiry=='3/4/2016')]['Open_Int'])))\n",
    "/sum(df[(df.Type=='call') & (df.Expiry=='3/4/2016')]['Open_Int'])"
   ]
  },
  {
   "cell_type": "code",
   "execution_count": 37,
   "metadata": {
    "collapsed": false
   },
   "outputs": [
    {
     "data": {
      "text/plain": [
       "91.908840470823947"
      ]
     },
     "execution_count": 37,
     "metadata": {},
     "output_type": "execute_result"
    }
   ],
   "source": [
    "# 8 a\n",
    "sum(((df[(df.Type=='put') & (df.Expiry=='3/4/2016')]['Strike'])*(df[(aapl.Type=='put') & (df.Expiry=='3/4/2016')]['Open_Int'])))/\n",
    "sum(df[(df.Type=='put') & (df.Expiry=='3/4/2016')]['Open_Int'])"
   ]
  },
  {
   "cell_type": "code",
   "execution_count": null,
   "metadata": {
    "collapsed": true
   },
   "outputs": [],
   "source": []
  }
 ],
 "metadata": {
  "kernelspec": {
   "display_name": "Python 2",
   "language": "python",
   "name": "python2"
  },
  "language_info": {
   "codemirror_mode": {
    "name": "ipython",
    "version": 2
   },
   "file_extension": ".py",
   "mimetype": "text/x-python",
   "name": "python",
   "nbconvert_exporter": "python",
   "pygments_lexer": "ipython2",
   "version": "2.7.10"
  }
 },
 "nbformat": 4,
 "nbformat_minor": 0
}
